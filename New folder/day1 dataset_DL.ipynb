{
 "cells": [
  {
   "cell_type": "code",
   "execution_count": 1,
   "id": "285c2a18",
   "metadata": {},
   "outputs": [],
   "source": [
    "import pandas as pd\n",
    "import numpy as np\n",
    "import matplotlib.pyplot as plt\n",
    "import seaborn as sns"
   ]
  },
  {
   "cell_type": "markdown",
   "id": "19cfae9e",
   "metadata": {},
   "source": [
    "## Load first dataset"
   ]
  },
  {
   "cell_type": "code",
   "execution_count": 91,
   "id": "bed87558",
   "metadata": {},
   "outputs": [],
   "source": [
    "df1=pd.read_csv('data_for_DL.csv')\n"
   ]
  },
  {
   "cell_type": "code",
   "execution_count": 92,
   "id": "ae122e37",
   "metadata": {},
   "outputs": [
    {
     "data": {
      "text/html": [
       "<div>\n",
       "<style scoped>\n",
       "    .dataframe tbody tr th:only-of-type {\n",
       "        vertical-align: middle;\n",
       "    }\n",
       "\n",
       "    .dataframe tbody tr th {\n",
       "        vertical-align: top;\n",
       "    }\n",
       "\n",
       "    .dataframe thead th {\n",
       "        text-align: right;\n",
       "    }\n",
       "</style>\n",
       "<table border=\"1\" class=\"dataframe\">\n",
       "  <thead>\n",
       "    <tr style=\"text-align: right;\">\n",
       "      <th></th>\n",
       "      <th>Unnamed: 0</th>\n",
       "      <th>Rating</th>\n",
       "      <th>Review</th>\n",
       "    </tr>\n",
       "  </thead>\n",
       "  <tbody>\n",
       "    <tr>\n",
       "      <th>0</th>\n",
       "      <td>0</td>\n",
       "      <td>5.0</td>\n",
       "      <td>I feel so LUCKY to have found this used (phone...</td>\n",
       "    </tr>\n",
       "    <tr>\n",
       "      <th>1</th>\n",
       "      <td>1</td>\n",
       "      <td>4.0</td>\n",
       "      <td>nice phone, nice up grade from my pantach revu...</td>\n",
       "    </tr>\n",
       "    <tr>\n",
       "      <th>2</th>\n",
       "      <td>2</td>\n",
       "      <td>4.0</td>\n",
       "      <td>It works good but it goes slow sometimes but i...</td>\n",
       "    </tr>\n",
       "    <tr>\n",
       "      <th>3</th>\n",
       "      <td>3</td>\n",
       "      <td>4.0</td>\n",
       "      <td>Great phone to replace my lost phone. The only...</td>\n",
       "    </tr>\n",
       "    <tr>\n",
       "      <th>4</th>\n",
       "      <td>4</td>\n",
       "      <td>1.0</td>\n",
       "      <td>I already had a phone with problems... I know ...</td>\n",
       "    </tr>\n",
       "    <tr>\n",
       "      <th>...</th>\n",
       "      <td>...</td>\n",
       "      <td>...</td>\n",
       "      <td>...</td>\n",
       "    </tr>\n",
       "    <tr>\n",
       "      <th>212411</th>\n",
       "      <td>212411</td>\n",
       "      <td>4.0</td>\n",
       "      <td>Really Nice</td>\n",
       "    </tr>\n",
       "    <tr>\n",
       "      <th>212412</th>\n",
       "      <td>212412</td>\n",
       "      <td>4.0</td>\n",
       "      <td>Delightful</td>\n",
       "    </tr>\n",
       "    <tr>\n",
       "      <th>212413</th>\n",
       "      <td>212413</td>\n",
       "      <td>4.0</td>\n",
       "      <td>Nice product</td>\n",
       "    </tr>\n",
       "    <tr>\n",
       "      <th>212414</th>\n",
       "      <td>212414</td>\n",
       "      <td>4.0</td>\n",
       "      <td>Very Good</td>\n",
       "    </tr>\n",
       "    <tr>\n",
       "      <th>212415</th>\n",
       "      <td>212415</td>\n",
       "      <td>4.0</td>\n",
       "      <td>Good choice</td>\n",
       "    </tr>\n",
       "  </tbody>\n",
       "</table>\n",
       "<p>212416 rows × 3 columns</p>\n",
       "</div>"
      ],
      "text/plain": [
       "        Unnamed: 0  Rating                                             Review\n",
       "0                0     5.0  I feel so LUCKY to have found this used (phone...\n",
       "1                1     4.0  nice phone, nice up grade from my pantach revu...\n",
       "2                2     4.0  It works good but it goes slow sometimes but i...\n",
       "3                3     4.0  Great phone to replace my lost phone. The only...\n",
       "4                4     1.0  I already had a phone with problems... I know ...\n",
       "...            ...     ...                                                ...\n",
       "212411      212411     4.0                                        Really Nice\n",
       "212412      212412     4.0                                         Delightful\n",
       "212413      212413     4.0                                       Nice product\n",
       "212414      212414     4.0                                          Very Good\n",
       "212415      212415     4.0                                        Good choice\n",
       "\n",
       "[212416 rows x 3 columns]"
      ]
     },
     "execution_count": 92,
     "metadata": {},
     "output_type": "execute_result"
    }
   ],
   "source": [
    "df1"
   ]
  },
  {
   "cell_type": "code",
   "execution_count": 93,
   "id": "d748d1ac",
   "metadata": {},
   "outputs": [
    {
     "data": {
      "text/html": [
       "<div>\n",
       "<style scoped>\n",
       "    .dataframe tbody tr th:only-of-type {\n",
       "        vertical-align: middle;\n",
       "    }\n",
       "\n",
       "    .dataframe tbody tr th {\n",
       "        vertical-align: top;\n",
       "    }\n",
       "\n",
       "    .dataframe thead th {\n",
       "        text-align: right;\n",
       "    }\n",
       "</style>\n",
       "<table border=\"1\" class=\"dataframe\">\n",
       "  <thead>\n",
       "    <tr style=\"text-align: right;\">\n",
       "      <th></th>\n",
       "      <th>Rating</th>\n",
       "      <th>Review</th>\n",
       "    </tr>\n",
       "  </thead>\n",
       "  <tbody>\n",
       "    <tr>\n",
       "      <th>0</th>\n",
       "      <td>5.0</td>\n",
       "      <td>I feel so LUCKY to have found this used (phone...</td>\n",
       "    </tr>\n",
       "    <tr>\n",
       "      <th>1</th>\n",
       "      <td>4.0</td>\n",
       "      <td>nice phone, nice up grade from my pantach revu...</td>\n",
       "    </tr>\n",
       "    <tr>\n",
       "      <th>2</th>\n",
       "      <td>4.0</td>\n",
       "      <td>It works good but it goes slow sometimes but i...</td>\n",
       "    </tr>\n",
       "    <tr>\n",
       "      <th>3</th>\n",
       "      <td>4.0</td>\n",
       "      <td>Great phone to replace my lost phone. The only...</td>\n",
       "    </tr>\n",
       "    <tr>\n",
       "      <th>4</th>\n",
       "      <td>1.0</td>\n",
       "      <td>I already had a phone with problems... I know ...</td>\n",
       "    </tr>\n",
       "    <tr>\n",
       "      <th>...</th>\n",
       "      <td>...</td>\n",
       "      <td>...</td>\n",
       "    </tr>\n",
       "    <tr>\n",
       "      <th>212411</th>\n",
       "      <td>4.0</td>\n",
       "      <td>Really Nice</td>\n",
       "    </tr>\n",
       "    <tr>\n",
       "      <th>212412</th>\n",
       "      <td>4.0</td>\n",
       "      <td>Delightful</td>\n",
       "    </tr>\n",
       "    <tr>\n",
       "      <th>212413</th>\n",
       "      <td>4.0</td>\n",
       "      <td>Nice product</td>\n",
       "    </tr>\n",
       "    <tr>\n",
       "      <th>212414</th>\n",
       "      <td>4.0</td>\n",
       "      <td>Very Good</td>\n",
       "    </tr>\n",
       "    <tr>\n",
       "      <th>212415</th>\n",
       "      <td>4.0</td>\n",
       "      <td>Good choice</td>\n",
       "    </tr>\n",
       "  </tbody>\n",
       "</table>\n",
       "<p>212416 rows × 2 columns</p>\n",
       "</div>"
      ],
      "text/plain": [
       "        Rating                                             Review\n",
       "0          5.0  I feel so LUCKY to have found this used (phone...\n",
       "1          4.0  nice phone, nice up grade from my pantach revu...\n",
       "2          4.0  It works good but it goes slow sometimes but i...\n",
       "3          4.0  Great phone to replace my lost phone. The only...\n",
       "4          1.0  I already had a phone with problems... I know ...\n",
       "...        ...                                                ...\n",
       "212411     4.0                                        Really Nice\n",
       "212412     4.0                                         Delightful\n",
       "212413     4.0                                       Nice product\n",
       "212414     4.0                                          Very Good\n",
       "212415     4.0                                        Good choice\n",
       "\n",
       "[212416 rows x 2 columns]"
      ]
     },
     "execution_count": 93,
     "metadata": {},
     "output_type": "execute_result"
    }
   ],
   "source": [
    "df1.drop(columns='Unnamed: 0')"
   ]
  },
  {
   "cell_type": "markdown",
   "id": "3bcbaa6a",
   "metadata": {},
   "source": [
    "## Load second dataset"
   ]
  },
  {
   "cell_type": "code",
   "execution_count": 94,
   "id": "7b2c398e",
   "metadata": {},
   "outputs": [],
   "source": [
    "df2=pd.read_csv('amazon_food_clean.csv')"
   ]
  },
  {
   "cell_type": "code",
   "execution_count": 95,
   "id": "c7a6270c",
   "metadata": {},
   "outputs": [
    {
     "data": {
      "text/html": [
       "<div>\n",
       "<style scoped>\n",
       "    .dataframe tbody tr th:only-of-type {\n",
       "        vertical-align: middle;\n",
       "    }\n",
       "\n",
       "    .dataframe tbody tr th {\n",
       "        vertical-align: top;\n",
       "    }\n",
       "\n",
       "    .dataframe thead th {\n",
       "        text-align: right;\n",
       "    }\n",
       "</style>\n",
       "<table border=\"1\" class=\"dataframe\">\n",
       "  <thead>\n",
       "    <tr style=\"text-align: right;\">\n",
       "      <th></th>\n",
       "      <th>Unnamed: 0</th>\n",
       "      <th>Review</th>\n",
       "      <th>Rating</th>\n",
       "    </tr>\n",
       "  </thead>\n",
       "  <tbody>\n",
       "    <tr>\n",
       "      <th>0</th>\n",
       "      <td>0</td>\n",
       "      <td>I have bought several of the Vitality canned d...</td>\n",
       "      <td>5</td>\n",
       "    </tr>\n",
       "    <tr>\n",
       "      <th>1</th>\n",
       "      <td>1</td>\n",
       "      <td>Product arrived labeled as Jumbo Salted Peanut...</td>\n",
       "      <td>1</td>\n",
       "    </tr>\n",
       "    <tr>\n",
       "      <th>2</th>\n",
       "      <td>2</td>\n",
       "      <td>This is a confection that has been around a fe...</td>\n",
       "      <td>4</td>\n",
       "    </tr>\n",
       "    <tr>\n",
       "      <th>3</th>\n",
       "      <td>3</td>\n",
       "      <td>If you are looking for the secret ingredient i...</td>\n",
       "      <td>2</td>\n",
       "    </tr>\n",
       "    <tr>\n",
       "      <th>4</th>\n",
       "      <td>4</td>\n",
       "      <td>Great taffy at a great price.  There was a wid...</td>\n",
       "      <td>5</td>\n",
       "    </tr>\n",
       "    <tr>\n",
       "      <th>...</th>\n",
       "      <td>...</td>\n",
       "      <td>...</td>\n",
       "      <td>...</td>\n",
       "    </tr>\n",
       "    <tr>\n",
       "      <th>393278</th>\n",
       "      <td>393479</td>\n",
       "      <td>Great for sesame chicken..this is a good if no...</td>\n",
       "      <td>5</td>\n",
       "    </tr>\n",
       "    <tr>\n",
       "      <th>393279</th>\n",
       "      <td>393480</td>\n",
       "      <td>I'm disappointed with the flavor. The chocolat...</td>\n",
       "      <td>2</td>\n",
       "    </tr>\n",
       "    <tr>\n",
       "      <th>393280</th>\n",
       "      <td>393481</td>\n",
       "      <td>These stars are small, so you can give 10-15 o...</td>\n",
       "      <td>5</td>\n",
       "    </tr>\n",
       "    <tr>\n",
       "      <th>393281</th>\n",
       "      <td>393482</td>\n",
       "      <td>These are the BEST treats for training and rew...</td>\n",
       "      <td>5</td>\n",
       "    </tr>\n",
       "    <tr>\n",
       "      <th>393282</th>\n",
       "      <td>393483</td>\n",
       "      <td>I am very satisfied ,product is as advertised,...</td>\n",
       "      <td>5</td>\n",
       "    </tr>\n",
       "  </tbody>\n",
       "</table>\n",
       "<p>393283 rows × 3 columns</p>\n",
       "</div>"
      ],
      "text/plain": [
       "        Unnamed: 0                                             Review  Rating\n",
       "0                0  I have bought several of the Vitality canned d...       5\n",
       "1                1  Product arrived labeled as Jumbo Salted Peanut...       1\n",
       "2                2  This is a confection that has been around a fe...       4\n",
       "3                3  If you are looking for the secret ingredient i...       2\n",
       "4                4  Great taffy at a great price.  There was a wid...       5\n",
       "...            ...                                                ...     ...\n",
       "393278      393479  Great for sesame chicken..this is a good if no...       5\n",
       "393279      393480  I'm disappointed with the flavor. The chocolat...       2\n",
       "393280      393481  These stars are small, so you can give 10-15 o...       5\n",
       "393281      393482  These are the BEST treats for training and rew...       5\n",
       "393282      393483  I am very satisfied ,product is as advertised,...       5\n",
       "\n",
       "[393283 rows x 3 columns]"
      ]
     },
     "execution_count": 95,
     "metadata": {},
     "output_type": "execute_result"
    }
   ],
   "source": [
    "df2"
   ]
  },
  {
   "cell_type": "code",
   "execution_count": 96,
   "id": "83de6599",
   "metadata": {},
   "outputs": [
    {
     "data": {
      "text/html": [
       "<div>\n",
       "<style scoped>\n",
       "    .dataframe tbody tr th:only-of-type {\n",
       "        vertical-align: middle;\n",
       "    }\n",
       "\n",
       "    .dataframe tbody tr th {\n",
       "        vertical-align: top;\n",
       "    }\n",
       "\n",
       "    .dataframe thead th {\n",
       "        text-align: right;\n",
       "    }\n",
       "</style>\n",
       "<table border=\"1\" class=\"dataframe\">\n",
       "  <thead>\n",
       "    <tr style=\"text-align: right;\">\n",
       "      <th></th>\n",
       "      <th>Review</th>\n",
       "      <th>Rating</th>\n",
       "    </tr>\n",
       "  </thead>\n",
       "  <tbody>\n",
       "    <tr>\n",
       "      <th>0</th>\n",
       "      <td>I have bought several of the Vitality canned d...</td>\n",
       "      <td>5</td>\n",
       "    </tr>\n",
       "    <tr>\n",
       "      <th>1</th>\n",
       "      <td>Product arrived labeled as Jumbo Salted Peanut...</td>\n",
       "      <td>1</td>\n",
       "    </tr>\n",
       "    <tr>\n",
       "      <th>2</th>\n",
       "      <td>This is a confection that has been around a fe...</td>\n",
       "      <td>4</td>\n",
       "    </tr>\n",
       "    <tr>\n",
       "      <th>3</th>\n",
       "      <td>If you are looking for the secret ingredient i...</td>\n",
       "      <td>2</td>\n",
       "    </tr>\n",
       "    <tr>\n",
       "      <th>4</th>\n",
       "      <td>Great taffy at a great price.  There was a wid...</td>\n",
       "      <td>5</td>\n",
       "    </tr>\n",
       "    <tr>\n",
       "      <th>...</th>\n",
       "      <td>...</td>\n",
       "      <td>...</td>\n",
       "    </tr>\n",
       "    <tr>\n",
       "      <th>393278</th>\n",
       "      <td>Great for sesame chicken..this is a good if no...</td>\n",
       "      <td>5</td>\n",
       "    </tr>\n",
       "    <tr>\n",
       "      <th>393279</th>\n",
       "      <td>I'm disappointed with the flavor. The chocolat...</td>\n",
       "      <td>2</td>\n",
       "    </tr>\n",
       "    <tr>\n",
       "      <th>393280</th>\n",
       "      <td>These stars are small, so you can give 10-15 o...</td>\n",
       "      <td>5</td>\n",
       "    </tr>\n",
       "    <tr>\n",
       "      <th>393281</th>\n",
       "      <td>These are the BEST treats for training and rew...</td>\n",
       "      <td>5</td>\n",
       "    </tr>\n",
       "    <tr>\n",
       "      <th>393282</th>\n",
       "      <td>I am very satisfied ,product is as advertised,...</td>\n",
       "      <td>5</td>\n",
       "    </tr>\n",
       "  </tbody>\n",
       "</table>\n",
       "<p>393283 rows × 2 columns</p>\n",
       "</div>"
      ],
      "text/plain": [
       "                                                   Review  Rating\n",
       "0       I have bought several of the Vitality canned d...       5\n",
       "1       Product arrived labeled as Jumbo Salted Peanut...       1\n",
       "2       This is a confection that has been around a fe...       4\n",
       "3       If you are looking for the secret ingredient i...       2\n",
       "4       Great taffy at a great price.  There was a wid...       5\n",
       "...                                                   ...     ...\n",
       "393278  Great for sesame chicken..this is a good if no...       5\n",
       "393279  I'm disappointed with the flavor. The chocolat...       2\n",
       "393280  These stars are small, so you can give 10-15 o...       5\n",
       "393281  These are the BEST treats for training and rew...       5\n",
       "393282  I am very satisfied ,product is as advertised,...       5\n",
       "\n",
       "[393283 rows x 2 columns]"
      ]
     },
     "execution_count": 96,
     "metadata": {},
     "output_type": "execute_result"
    }
   ],
   "source": [
    "df2.drop(columns='Unnamed: 0')"
   ]
  },
  {
   "cell_type": "markdown",
   "id": "2cb970d9",
   "metadata": {},
   "source": [
    "## Merge both dataset"
   ]
  },
  {
   "cell_type": "code",
   "execution_count": 97,
   "metadata": {},
   "outputs": [],
   "source": [
    "df = pd.concat([df1, df2], ignore_index=True)"
   ]
  },
  {
   "cell_type": "code",
   "execution_count": 98,
   "id": "4b07dd78",
   "metadata": {},
   "outputs": [
    {
     "data": {
      "text/html": [
       "<div>\n",
       "<style scoped>\n",
       "    .dataframe tbody tr th:only-of-type {\n",
       "        vertical-align: middle;\n",
       "    }\n",
       "\n",
       "    .dataframe tbody tr th {\n",
       "        vertical-align: top;\n",
       "    }\n",
       "\n",
       "    .dataframe thead th {\n",
       "        text-align: right;\n",
       "    }\n",
       "</style>\n",
       "<table border=\"1\" class=\"dataframe\">\n",
       "  <thead>\n",
       "    <tr style=\"text-align: right;\">\n",
       "      <th></th>\n",
       "      <th>Unnamed: 0</th>\n",
       "      <th>Rating</th>\n",
       "      <th>Review</th>\n",
       "    </tr>\n",
       "  </thead>\n",
       "  <tbody>\n",
       "    <tr>\n",
       "      <th>0</th>\n",
       "      <td>0</td>\n",
       "      <td>5.0</td>\n",
       "      <td>I feel so LUCKY to have found this used (phone...</td>\n",
       "    </tr>\n",
       "    <tr>\n",
       "      <th>1</th>\n",
       "      <td>1</td>\n",
       "      <td>4.0</td>\n",
       "      <td>nice phone, nice up grade from my pantach revu...</td>\n",
       "    </tr>\n",
       "    <tr>\n",
       "      <th>2</th>\n",
       "      <td>2</td>\n",
       "      <td>4.0</td>\n",
       "      <td>It works good but it goes slow sometimes but i...</td>\n",
       "    </tr>\n",
       "    <tr>\n",
       "      <th>3</th>\n",
       "      <td>3</td>\n",
       "      <td>4.0</td>\n",
       "      <td>Great phone to replace my lost phone. The only...</td>\n",
       "    </tr>\n",
       "    <tr>\n",
       "      <th>4</th>\n",
       "      <td>4</td>\n",
       "      <td>1.0</td>\n",
       "      <td>I already had a phone with problems... I know ...</td>\n",
       "    </tr>\n",
       "    <tr>\n",
       "      <th>...</th>\n",
       "      <td>...</td>\n",
       "      <td>...</td>\n",
       "      <td>...</td>\n",
       "    </tr>\n",
       "    <tr>\n",
       "      <th>605694</th>\n",
       "      <td>393479</td>\n",
       "      <td>5.0</td>\n",
       "      <td>Great for sesame chicken..this is a good if no...</td>\n",
       "    </tr>\n",
       "    <tr>\n",
       "      <th>605695</th>\n",
       "      <td>393480</td>\n",
       "      <td>2.0</td>\n",
       "      <td>I'm disappointed with the flavor. The chocolat...</td>\n",
       "    </tr>\n",
       "    <tr>\n",
       "      <th>605696</th>\n",
       "      <td>393481</td>\n",
       "      <td>5.0</td>\n",
       "      <td>These stars are small, so you can give 10-15 o...</td>\n",
       "    </tr>\n",
       "    <tr>\n",
       "      <th>605697</th>\n",
       "      <td>393482</td>\n",
       "      <td>5.0</td>\n",
       "      <td>These are the BEST treats for training and rew...</td>\n",
       "    </tr>\n",
       "    <tr>\n",
       "      <th>605698</th>\n",
       "      <td>393483</td>\n",
       "      <td>5.0</td>\n",
       "      <td>I am very satisfied ,product is as advertised,...</td>\n",
       "    </tr>\n",
       "  </tbody>\n",
       "</table>\n",
       "<p>605699 rows × 3 columns</p>\n",
       "</div>"
      ],
      "text/plain": [
       "        Unnamed: 0  Rating                                             Review\n",
       "0                0     5.0  I feel so LUCKY to have found this used (phone...\n",
       "1                1     4.0  nice phone, nice up grade from my pantach revu...\n",
       "2                2     4.0  It works good but it goes slow sometimes but i...\n",
       "3                3     4.0  Great phone to replace my lost phone. The only...\n",
       "4                4     1.0  I already had a phone with problems... I know ...\n",
       "...            ...     ...                                                ...\n",
       "605694      393479     5.0  Great for sesame chicken..this is a good if no...\n",
       "605695      393480     2.0  I'm disappointed with the flavor. The chocolat...\n",
       "605696      393481     5.0  These stars are small, so you can give 10-15 o...\n",
       "605697      393482     5.0  These are the BEST treats for training and rew...\n",
       "605698      393483     5.0  I am very satisfied ,product is as advertised,...\n",
       "\n",
       "[605699 rows x 3 columns]"
      ]
     },
     "execution_count": 98,
     "metadata": {},
     "output_type": "execute_result"
    }
   ],
   "source": [
    "df"
   ]
  },
  {
   "cell_type": "code",
   "execution_count": 99,
   "id": "93ccb7a6",
   "metadata": {},
   "outputs": [],
   "source": [
    "df=df.drop(columns='Unnamed: 0')"
   ]
  },
  {
   "cell_type": "code",
   "execution_count": 100,
   "id": "a7bc0118",
   "metadata": {},
   "outputs": [
    {
     "name": "stdout",
     "output_type": "stream",
     "text": [
      "<class 'pandas.core.frame.DataFrame'>\n",
      "RangeIndex: 605699 entries, 0 to 605698\n",
      "Data columns (total 2 columns):\n",
      " #   Column  Non-Null Count   Dtype  \n",
      "---  ------  --------------   -----  \n",
      " 0   Rating  605485 non-null  float64\n",
      " 1   Review  604868 non-null  object \n",
      "dtypes: float64(1), object(1)\n",
      "memory usage: 9.2+ MB\n"
     ]
    }
   ],
   "source": [
    "df.info()"
   ]
  },
  {
   "cell_type": "markdown",
   "id": "a34f3cf0",
   "metadata": {},
   "source": [
    "## removing null , duplicate , non english rows"
   ]
  },
  {
   "cell_type": "code",
   "execution_count": 60,
   "id": "84606237",
   "metadata": {},
   "outputs": [],
   "source": [
    "df = df.dropna(subset=['Review'])\n",
    "df = df.dropna(subset=['Rating'])"
   ]
  },
  {
   "cell_type": "code",
   "execution_count": 61,
   "id": "b2ceefaf",
   "metadata": {},
   "outputs": [],
   "source": [
    "df.drop_duplicates(inplace=True)"
   ]
  },
  {
   "cell_type": "code",
   "execution_count": 62,
   "id": "7dcba69a",
   "metadata": {},
   "outputs": [],
   "source": [
    "conflicting_reviews = df.groupby('Review')['Rating'].nunique()\n",
    "conflicting_reviews = conflicting_reviews[conflicting_reviews > 1].index\n",
    "df = df[df['Review'].isin(conflicting_reviews) == False]"
   ]
  },
  {
   "cell_type": "code",
   "execution_count": 63,
   "id": "82ccdf63",
   "metadata": {},
   "outputs": [
    {
     "name": "stdout",
     "output_type": "stream",
     "text": [
      "Number of duplicate rows: 0\n"
     ]
    }
   ],
   "source": [
    "num_duplicates = df.duplicated().sum()\n",
    "print(f\"Number of duplicate rows: {num_duplicates}\")"
   ]
  },
  {
   "cell_type": "code",
   "execution_count": 64,
   "id": "46601f4e",
   "metadata": {},
   "outputs": [],
   "source": [
    "df.reset_index(drop=True, inplace=True)"
   ]
  },
  {
   "cell_type": "code",
   "execution_count": 65,
   "id": "8f1b8da7",
   "metadata": {},
   "outputs": [
    {
     "data": {
      "text/html": [
       "<div>\n",
       "<style scoped>\n",
       "    .dataframe tbody tr th:only-of-type {\n",
       "        vertical-align: middle;\n",
       "    }\n",
       "\n",
       "    .dataframe tbody tr th {\n",
       "        vertical-align: top;\n",
       "    }\n",
       "\n",
       "    .dataframe thead th {\n",
       "        text-align: right;\n",
       "    }\n",
       "</style>\n",
       "<table border=\"1\" class=\"dataframe\">\n",
       "  <thead>\n",
       "    <tr style=\"text-align: right;\">\n",
       "      <th></th>\n",
       "      <th>Rating</th>\n",
       "      <th>Review</th>\n",
       "    </tr>\n",
       "  </thead>\n",
       "  <tbody>\n",
       "    <tr>\n",
       "      <th>0</th>\n",
       "      <td>2.0</td>\n",
       "      <td>I received the phone in record time however it...</td>\n",
       "    </tr>\n",
       "    <tr>\n",
       "      <th>1</th>\n",
       "      <td>5.0</td>\n",
       "      <td>I found very good is 100% recommended hope to ...</td>\n",
       "    </tr>\n",
       "    <tr>\n",
       "      <th>2</th>\n",
       "      <td>1.0</td>\n",
       "      <td>Bought phone April 30, screen went completely ...</td>\n",
       "    </tr>\n",
       "    <tr>\n",
       "      <th>3</th>\n",
       "      <td>5.0</td>\n",
       "      <td>I ordered this phone for a friend and she is t...</td>\n",
       "    </tr>\n",
       "    <tr>\n",
       "      <th>4</th>\n",
       "      <td>3.0</td>\n",
       "      <td>The charger that came with the phone causes th...</td>\n",
       "    </tr>\n",
       "    <tr>\n",
       "      <th>...</th>\n",
       "      <td>...</td>\n",
       "      <td>...</td>\n",
       "    </tr>\n",
       "    <tr>\n",
       "      <th>590874</th>\n",
       "      <td>5.0</td>\n",
       "      <td>Great for sesame chicken..this is a good if no...</td>\n",
       "    </tr>\n",
       "    <tr>\n",
       "      <th>590875</th>\n",
       "      <td>2.0</td>\n",
       "      <td>I'm disappointed with the flavor. The chocolat...</td>\n",
       "    </tr>\n",
       "    <tr>\n",
       "      <th>590876</th>\n",
       "      <td>5.0</td>\n",
       "      <td>These stars are small, so you can give 10-15 o...</td>\n",
       "    </tr>\n",
       "    <tr>\n",
       "      <th>590877</th>\n",
       "      <td>5.0</td>\n",
       "      <td>These are the BEST treats for training and rew...</td>\n",
       "    </tr>\n",
       "    <tr>\n",
       "      <th>590878</th>\n",
       "      <td>5.0</td>\n",
       "      <td>I am very satisfied ,product is as advertised,...</td>\n",
       "    </tr>\n",
       "  </tbody>\n",
       "</table>\n",
       "<p>590879 rows × 2 columns</p>\n",
       "</div>"
      ],
      "text/plain": [
       "        Rating                                             Review\n",
       "0          2.0  I received the phone in record time however it...\n",
       "1          5.0  I found very good is 100% recommended hope to ...\n",
       "2          1.0  Bought phone April 30, screen went completely ...\n",
       "3          5.0  I ordered this phone for a friend and she is t...\n",
       "4          3.0  The charger that came with the phone causes th...\n",
       "...        ...                                                ...\n",
       "590874     5.0  Great for sesame chicken..this is a good if no...\n",
       "590875     2.0  I'm disappointed with the flavor. The chocolat...\n",
       "590876     5.0  These stars are small, so you can give 10-15 o...\n",
       "590877     5.0  These are the BEST treats for training and rew...\n",
       "590878     5.0  I am very satisfied ,product is as advertised,...\n",
       "\n",
       "[590879 rows x 2 columns]"
      ]
     },
     "execution_count": 65,
     "metadata": {},
     "output_type": "execute_result"
    }
   ],
   "source": [
    "df"
   ]
  },
  {
   "cell_type": "code",
   "execution_count": 66,
   "id": "d9c811fb",
   "metadata": {},
   "outputs": [
    {
     "data": {
      "text/plain": [
       "Rating\n",
       "5.0    347726\n",
       "4.0     88097\n",
       "1.0     71319\n",
       "3.0     48676\n",
       "2.0     35061\n",
       "Name: count, dtype: int64"
      ]
     },
     "execution_count": 66,
     "metadata": {},
     "output_type": "execute_result"
    }
   ],
   "source": [
    "df['Rating'].value_counts()"
   ]
  },
  {
   "cell_type": "code",
   "execution_count": null,
   "id": "6167120b",
   "metadata": {},
   "outputs": [],
   "source": [
    "import pandas as pd\n",
    "from langdetect import detect\n",
    "from langdetect.lang_detect_exception import LangDetectException\n",
    "\n",
    "\n",
    "def detect_language(text):\n",
    "    try:\n",
    "        return detect(str(text))\n",
    "    except LangDetectException:\n",
    "        return 'unknown'\n",
    "\n",
    "# Apply language detection\n",
    "df['language'] = df['Review'].apply(detect_language)\n"
   ]
  },
  {
   "cell_type": "code",
   "execution_count": null,
   "id": "960a0c72",
   "metadata": {},
   "outputs": [
    {
     "name": "stdout",
     "output_type": "stream",
     "text": [
      "Non-English reviews: 10816\n",
      "\n",
      "Language distribution:\n",
      " language\n",
      "en         197598\n",
      "es           2940\n",
      "af           1133\n",
      "fr            971\n",
      "ca            719\n",
      "ro            610\n",
      "de            535\n",
      "pt            450\n",
      "it            379\n",
      "so            377\n",
      "no            320\n",
      "nl            283\n",
      "da            237\n",
      "cy            218\n",
      "tl            201\n",
      "sl            196\n",
      "et            168\n",
      "vi            138\n",
      "sv            122\n",
      "unknown        98\n",
      "sq             95\n",
      "id             89\n",
      "hr             88\n",
      "pl             73\n",
      "sk             72\n",
      "hu             66\n",
      "fi             58\n",
      "sw             49\n",
      "tr             49\n",
      "cs             44\n",
      "lt             17\n",
      "lv             16\n",
      "uk              3\n",
      "ru              2\n",
      "Name: count, dtype: int64\n"
     ]
    }
   ],
   "source": [
    "# Count non-English reviews\n",
    "non_english_count = df[df['language'] != 'en'].shape[0]\n",
    "\n",
    "\n",
    "language_counts = df['language'].value_counts()\n",
    "\n",
    "print(\"Non-English reviews:\", non_english_count)\n",
    "print(\"\\nLanguage distribution:\\n\", language_counts)\n"
   ]
  },
  {
   "cell_type": "code",
   "execution_count": null,
   "id": "b8f7c35b",
   "metadata": {},
   "outputs": [],
   "source": [
    "df = df[df['language'] == 'en'].drop(columns=['language'])"
   ]
  },
  {
   "cell_type": "code",
   "execution_count": 22,
   "id": "61d69ebb",
   "metadata": {},
   "outputs": [],
   "source": [
    "df.reset_index(drop=True, inplace=True)"
   ]
  },
  {
   "cell_type": "code",
   "execution_count": 23,
   "id": "29d32689",
   "metadata": {},
   "outputs": [
    {
     "data": {
      "text/html": [
       "<div>\n",
       "<style scoped>\n",
       "    .dataframe tbody tr th:only-of-type {\n",
       "        vertical-align: middle;\n",
       "    }\n",
       "\n",
       "    .dataframe tbody tr th {\n",
       "        vertical-align: top;\n",
       "    }\n",
       "\n",
       "    .dataframe thead th {\n",
       "        text-align: right;\n",
       "    }\n",
       "</style>\n",
       "<table border=\"1\" class=\"dataframe\">\n",
       "  <thead>\n",
       "    <tr style=\"text-align: right;\">\n",
       "      <th></th>\n",
       "      <th>Rating</th>\n",
       "      <th>Review</th>\n",
       "    </tr>\n",
       "  </thead>\n",
       "  <tbody>\n",
       "    <tr>\n",
       "      <th>0</th>\n",
       "      <td>2.0</td>\n",
       "      <td>I received the phone in record time however it...</td>\n",
       "    </tr>\n",
       "    <tr>\n",
       "      <th>1</th>\n",
       "      <td>5.0</td>\n",
       "      <td>I found very good is 100% recommended hope to ...</td>\n",
       "    </tr>\n",
       "    <tr>\n",
       "      <th>2</th>\n",
       "      <td>1.0</td>\n",
       "      <td>Bought phone April 30, screen went completely ...</td>\n",
       "    </tr>\n",
       "    <tr>\n",
       "      <th>3</th>\n",
       "      <td>5.0</td>\n",
       "      <td>I ordered this phone for a friend and she is t...</td>\n",
       "    </tr>\n",
       "    <tr>\n",
       "      <th>4</th>\n",
       "      <td>3.0</td>\n",
       "      <td>The charger that came with the phone causes th...</td>\n",
       "    </tr>\n",
       "    <tr>\n",
       "      <th>...</th>\n",
       "      <td>...</td>\n",
       "      <td>...</td>\n",
       "    </tr>\n",
       "    <tr>\n",
       "      <th>197593</th>\n",
       "      <td>5.0</td>\n",
       "      <td>Works great; fast shipping!</td>\n",
       "    </tr>\n",
       "    <tr>\n",
       "      <th>197594</th>\n",
       "      <td>4.0</td>\n",
       "      <td>I love it! It is cool looking and durable.</td>\n",
       "    </tr>\n",
       "    <tr>\n",
       "      <th>197595</th>\n",
       "      <td>5.0</td>\n",
       "      <td>I received the phone with operation manual boo...</td>\n",
       "    </tr>\n",
       "    <tr>\n",
       "      <th>197596</th>\n",
       "      <td>1.0</td>\n",
       "      <td>Defective! !!!!!! On arrival. This device came...</td>\n",
       "    </tr>\n",
       "    <tr>\n",
       "      <th>197597</th>\n",
       "      <td>3.0</td>\n",
       "      <td>Phone seems to be in good shape- looked brand ...</td>\n",
       "    </tr>\n",
       "  </tbody>\n",
       "</table>\n",
       "<p>197598 rows × 2 columns</p>\n",
       "</div>"
      ],
      "text/plain": [
       "        Rating                                             Review\n",
       "0          2.0  I received the phone in record time however it...\n",
       "1          5.0  I found very good is 100% recommended hope to ...\n",
       "2          1.0  Bought phone April 30, screen went completely ...\n",
       "3          5.0  I ordered this phone for a friend and she is t...\n",
       "4          3.0  The charger that came with the phone causes th...\n",
       "...        ...                                                ...\n",
       "197593     5.0                        Works great; fast shipping!\n",
       "197594     4.0         I love it! It is cool looking and durable.\n",
       "197595     5.0  I received the phone with operation manual boo...\n",
       "197596     1.0  Defective! !!!!!! On arrival. This device came...\n",
       "197597     3.0  Phone seems to be in good shape- looked brand ...\n",
       "\n",
       "[197598 rows x 2 columns]"
      ]
     },
     "execution_count": 23,
     "metadata": {},
     "output_type": "execute_result"
    }
   ],
   "source": [
    "df"
   ]
  },
  {
   "cell_type": "code",
   "execution_count": 24,
   "id": "bd0d44e1",
   "metadata": {},
   "outputs": [
    {
     "data": {
      "text/plain": [
       "Rating\n",
       "5.0    97191\n",
       "1.0    35072\n",
       "4.0    32113\n",
       "3.0    18944\n",
       "2.0    14278\n",
       "Name: count, dtype: int64"
      ]
     },
     "execution_count": 24,
     "metadata": {},
     "output_type": "execute_result"
    }
   ],
   "source": [
    "df['Rating'].value_counts()"
   ]
  },
  {
   "cell_type": "markdown",
   "id": "48ae2743",
   "metadata": {},
   "source": [
    "## Create Balanced and Imbalanced dataset"
   ]
  },
  {
   "cell_type": "code",
   "execution_count": 72,
   "id": "49ba3b5f",
   "metadata": {},
   "outputs": [
    {
     "name": "stderr",
     "output_type": "stream",
     "text": [
      "C:\\Users\\LENOVO\\AppData\\Local\\Temp\\ipykernel_25720\\161291977.py:2: FutureWarning: DataFrameGroupBy.apply operated on the grouping columns. This behavior is deprecated, and in a future version of pandas the grouping columns will be excluded from the operation. Either pass `include_groups=False` to exclude the groupings or explicitly select the grouping columns after groupby to silence this warning.\n",
      "  balanced_df = df.groupby('Rating').apply(lambda x: x.sample(n=23000, random_state=42)).reset_index(drop=True)\n"
     ]
    }
   ],
   "source": [
    "#creating balanced data\n",
    "balanced_df = df.groupby('Rating').apply(lambda x: x.sample(n=23000, random_state=42)).reset_index(drop=True)\n",
    "\n",
    "#adding a column key\n",
    "df['key'] = df.astype(str).agg('-'.join, axis=1)\n",
    "balanced_df['key'] = balanced_df.astype(str).agg('-'.join, axis=1)\n",
    "\n",
    "# Remove balanced rows to get remaining using key column\n",
    "remaining_df = df[~df['key'].isin(balanced_df['key'])].drop(columns='key')\n",
    "balanced_df = balanced_df.drop(columns='key')\n",
    "\n",
    "\n",
    "base_2_star = 12000\n",
    "\n",
    "\n",
    "\n",
    "target_counts = {\n",
    "    2: base_2_star,                # 1x\n",
    "    1: int(2.5 * base_2_star),     # 1.5x\n",
    "    3: int(1.5 * base_2_star),       # 2.5x\n",
    "    4: int(2 * base_2_star),       # 3x\n",
    "    5: int(3 * base_2_star),       # 2x\n",
    "}\n",
    "\n",
    "\n",
    "imbalanced_parts = []\n",
    "\n",
    "for rating, target in target_counts.items():\n",
    "    subset = remaining_df[remaining_df['Rating'] == rating]\n",
    "    replace = target > len(subset)  # only upsample if not enough data\n",
    "    sampled = subset.sample(n=target, replace=replace, random_state=42)\n",
    "    imbalanced_parts.append(sampled)\n",
    "\n",
    "\n",
    "imbalanced_df = pd.concat(imbalanced_parts).reset_index(drop=True)"
   ]
  },
  {
   "cell_type": "code",
   "execution_count": 73,
   "id": "25bd45e5",
   "metadata": {},
   "outputs": [
    {
     "name": "stdout",
     "output_type": "stream",
     "text": [
      "Number of duplicate rows between balanced and imbalanced: 0\n"
     ]
    }
   ],
   "source": [
    "# Check overlap between balanced and imbalanced datasets\n",
    "overlap = pd.merge(balanced_df, imbalanced_df, how='inner')\n",
    "print(\"Number of duplicate rows between balanced and imbalanced:\", len(overlap))"
   ]
  },
  {
   "cell_type": "code",
   "execution_count": 84,
   "id": "c8e3e60d",
   "metadata": {},
   "outputs": [],
   "source": [
    "# Shuffle the balanced DataFrame\n",
    "imbalanced_df = imbalanced_df.sample(frac=1, random_state=42).reset_index(drop=True)"
   ]
  },
  {
   "cell_type": "code",
   "execution_count": 83,
   "id": "59db3407",
   "metadata": {},
   "outputs": [
    {
     "data": {
      "text/html": [
       "<div>\n",
       "<style scoped>\n",
       "    .dataframe tbody tr th:only-of-type {\n",
       "        vertical-align: middle;\n",
       "    }\n",
       "\n",
       "    .dataframe tbody tr th {\n",
       "        vertical-align: top;\n",
       "    }\n",
       "\n",
       "    .dataframe thead th {\n",
       "        text-align: right;\n",
       "    }\n",
       "</style>\n",
       "<table border=\"1\" class=\"dataframe\">\n",
       "  <thead>\n",
       "    <tr style=\"text-align: right;\">\n",
       "      <th></th>\n",
       "      <th>Rating</th>\n",
       "      <th>Review</th>\n",
       "    </tr>\n",
       "  </thead>\n",
       "  <tbody>\n",
       "    <tr>\n",
       "      <th>0</th>\n",
       "      <td>4.0</td>\n",
       "      <td>I love the fabric of this shirt -- it's super ...</td>\n",
       "    </tr>\n",
       "    <tr>\n",
       "      <th>1</th>\n",
       "      <td>5.0</td>\n",
       "      <td>Very tasty cheese flavor. Because of crunch an...</td>\n",
       "    </tr>\n",
       "    <tr>\n",
       "      <th>2</th>\n",
       "      <td>5.0</td>\n",
       "      <td>My little Yorkie loves these. She eats the swe...</td>\n",
       "    </tr>\n",
       "    <tr>\n",
       "      <th>3</th>\n",
       "      <td>2.0</td>\n",
       "      <td>The product is not bad, but the olive taste is...</td>\n",
       "    </tr>\n",
       "    <tr>\n",
       "      <th>4</th>\n",
       "      <td>2.0</td>\n",
       "      <td>IT WAS FREE WITH A GREAT MEMORY FOAM MATTRESS ...</td>\n",
       "    </tr>\n",
       "    <tr>\n",
       "      <th>...</th>\n",
       "      <td>...</td>\n",
       "      <td>...</td>\n",
       "    </tr>\n",
       "    <tr>\n",
       "      <th>114995</th>\n",
       "      <td>4.0</td>\n",
       "      <td>I finally decided it was time to go for decaff...</td>\n",
       "    </tr>\n",
       "    <tr>\n",
       "      <th>114996</th>\n",
       "      <td>5.0</td>\n",
       "      <td>I love vegetable root chips but the brands you...</td>\n",
       "    </tr>\n",
       "    <tr>\n",
       "      <th>114997</th>\n",
       "      <td>5.0</td>\n",
       "      <td>This is really one of those items that hits it...</td>\n",
       "    </tr>\n",
       "    <tr>\n",
       "      <th>114998</th>\n",
       "      <td>1.0</td>\n",
       "      <td>Piss poor the phone is nothing i expected. Wou...</td>\n",
       "    </tr>\n",
       "    <tr>\n",
       "      <th>114999</th>\n",
       "      <td>1.0</td>\n",
       "      <td>The bag was full of tiny red biting ants and h...</td>\n",
       "    </tr>\n",
       "  </tbody>\n",
       "</table>\n",
       "<p>115000 rows × 2 columns</p>\n",
       "</div>"
      ],
      "text/plain": [
       "        Rating                                             Review\n",
       "0          4.0  I love the fabric of this shirt -- it's super ...\n",
       "1          5.0  Very tasty cheese flavor. Because of crunch an...\n",
       "2          5.0  My little Yorkie loves these. She eats the swe...\n",
       "3          2.0  The product is not bad, but the olive taste is...\n",
       "4          2.0  IT WAS FREE WITH A GREAT MEMORY FOAM MATTRESS ...\n",
       "...        ...                                                ...\n",
       "114995     4.0  I finally decided it was time to go for decaff...\n",
       "114996     5.0  I love vegetable root chips but the brands you...\n",
       "114997     5.0  This is really one of those items that hits it...\n",
       "114998     1.0  Piss poor the phone is nothing i expected. Wou...\n",
       "114999     1.0  The bag was full of tiny red biting ants and h...\n",
       "\n",
       "[115000 rows x 2 columns]"
      ]
     },
     "execution_count": 83,
     "metadata": {},
     "output_type": "execute_result"
    }
   ],
   "source": [
    "balanced_df"
   ]
  },
  {
   "cell_type": "code",
   "execution_count": 86,
   "id": "52372592",
   "metadata": {},
   "outputs": [
    {
     "data": {
      "text/html": [
       "<div>\n",
       "<style scoped>\n",
       "    .dataframe tbody tr th:only-of-type {\n",
       "        vertical-align: middle;\n",
       "    }\n",
       "\n",
       "    .dataframe tbody tr th {\n",
       "        vertical-align: top;\n",
       "    }\n",
       "\n",
       "    .dataframe thead th {\n",
       "        text-align: right;\n",
       "    }\n",
       "</style>\n",
       "<table border=\"1\" class=\"dataframe\">\n",
       "  <thead>\n",
       "    <tr style=\"text-align: right;\">\n",
       "      <th></th>\n",
       "      <th>Rating</th>\n",
       "      <th>Review</th>\n",
       "    </tr>\n",
       "  </thead>\n",
       "  <tbody>\n",
       "    <tr>\n",
       "      <th>0</th>\n",
       "      <td>4.0</td>\n",
       "      <td>Very good tea - the tea is milder than expecte...</td>\n",
       "    </tr>\n",
       "    <tr>\n",
       "      <th>1</th>\n",
       "      <td>4.0</td>\n",
       "      <td>I bought two of these they all disappointed .</td>\n",
       "    </tr>\n",
       "    <tr>\n",
       "      <th>2</th>\n",
       "      <td>3.0</td>\n",
       "      <td>The ones I got were the usual 46 oz boxes with...</td>\n",
       "    </tr>\n",
       "    <tr>\n",
       "      <th>3</th>\n",
       "      <td>2.0</td>\n",
       "      <td>They're OK.  They're very salty.  By far not a...</td>\n",
       "    </tr>\n",
       "    <tr>\n",
       "      <th>4</th>\n",
       "      <td>1.0</td>\n",
       "      <td>I am used to other Russian Caravan blends whic...</td>\n",
       "    </tr>\n",
       "    <tr>\n",
       "      <th>...</th>\n",
       "      <td>...</td>\n",
       "      <td>...</td>\n",
       "    </tr>\n",
       "    <tr>\n",
       "      <th>119995</th>\n",
       "      <td>5.0</td>\n",
       "      <td>These Newtons Fruit thins are a great tasting ...</td>\n",
       "    </tr>\n",
       "    <tr>\n",
       "      <th>119996</th>\n",
       "      <td>5.0</td>\n",
       "      <td>its working great so far and my mom love it. T...</td>\n",
       "    </tr>\n",
       "    <tr>\n",
       "      <th>119997</th>\n",
       "      <td>5.0</td>\n",
       "      <td>So I'm from New York, but am working at an int...</td>\n",
       "    </tr>\n",
       "    <tr>\n",
       "      <th>119998</th>\n",
       "      <td>2.0</td>\n",
       "      <td>The bag is cute, definitely cannot hold anythi...</td>\n",
       "    </tr>\n",
       "    <tr>\n",
       "      <th>119999</th>\n",
       "      <td>1.0</td>\n",
       "      <td>The fit on this shirt is bizarre--it very much...</td>\n",
       "    </tr>\n",
       "  </tbody>\n",
       "</table>\n",
       "<p>120000 rows × 2 columns</p>\n",
       "</div>"
      ],
      "text/plain": [
       "        Rating                                             Review\n",
       "0          4.0  Very good tea - the tea is milder than expecte...\n",
       "1          4.0      I bought two of these they all disappointed .\n",
       "2          3.0  The ones I got were the usual 46 oz boxes with...\n",
       "3          2.0  They're OK.  They're very salty.  By far not a...\n",
       "4          1.0  I am used to other Russian Caravan blends whic...\n",
       "...        ...                                                ...\n",
       "119995     5.0  These Newtons Fruit thins are a great tasting ...\n",
       "119996     5.0  its working great so far and my mom love it. T...\n",
       "119997     5.0  So I'm from New York, but am working at an int...\n",
       "119998     2.0  The bag is cute, definitely cannot hold anythi...\n",
       "119999     1.0  The fit on this shirt is bizarre--it very much...\n",
       "\n",
       "[120000 rows x 2 columns]"
      ]
     },
     "execution_count": 86,
     "metadata": {},
     "output_type": "execute_result"
    }
   ],
   "source": [
    "imbalanced_df"
   ]
  },
  {
   "cell_type": "markdown",
   "id": "b69ee7d9",
   "metadata": {},
   "source": [
    "## Visualization of balanced dataset"
   ]
  },
  {
   "cell_type": "code",
   "execution_count": 76,
   "id": "1979004c",
   "metadata": {},
   "outputs": [
    {
     "data": {
      "text/plain": [
       "Rating\n",
       "1.0    23000\n",
       "2.0    23000\n",
       "3.0    23000\n",
       "4.0    23000\n",
       "5.0    23000\n",
       "Name: count, dtype: int64"
      ]
     },
     "execution_count": 76,
     "metadata": {},
     "output_type": "execute_result"
    }
   ],
   "source": [
    "balanced_df['Rating'].value_counts()"
   ]
  },
  {
   "cell_type": "code",
   "execution_count": 77,
   "id": "be797e30",
   "metadata": {},
   "outputs": [
    {
     "name": "stderr",
     "output_type": "stream",
     "text": [
      "C:\\Users\\LENOVO\\AppData\\Local\\Temp\\ipykernel_25720\\2428083184.py:2: FutureWarning: \n",
      "\n",
      "Passing `palette` without assigning `hue` is deprecated and will be removed in v0.14.0. Assign the `x` variable to `hue` and set `legend=False` for the same effect.\n",
      "\n",
      "  sns.countplot(x='Rating', data=balanced_df, palette='viridis')\n"
     ]
    },
    {
     "data": {
      "image/png": "[encoded data removed]",
      "text/plain": [
       "<Figure size 800x500 with 1 Axes>"
      ]
     },
     "metadata": {},
     "output_type": "display_data"
    }
   ],
   "source": [
    "plt.figure(figsize=(8, 5))\n",
    "sns.countplot(x='Rating', data=balanced_df, palette='viridis')\n",
    "plt.title(\"Number of Reviews per Rating\")\n",
    "plt.xlabel(\"Rating\")\n",
    "plt.ylabel(\"Count\")\n",
    "plt.show()"
   ]
  },
  {
   "cell_type": "code",
   "execution_count": 78,
   "id": "de8057e1",
   "metadata": {},
   "outputs": [
    {
     "data": {
      "image/png": "[encoded data removed]",
      "text/plain": [
       "<Figure size 600x600 with 1 Axes>"
      ]
     },
     "metadata": {},
     "output_type": "display_data"
    }
   ],
   "source": [
    "rating_counts = balanced_df['Rating'].value_counts().sort_index()\n",
    "plt.figure(figsize=(6, 6))\n",
    "plt.pie(rating_counts, labels=rating_counts.index, autopct='%1.1f%%', startangle=140)\n",
    "plt.title(\"Rating Distribution\")\n",
    "plt.show()"
   ]
  },
  {
   "cell_type": "markdown",
   "id": "dfc12d58",
   "metadata": {},
   "source": [
    "## Visualization of imbalanced dataset"
   ]
  },
  {
   "cell_type": "code",
   "execution_count": 79,
   "id": "d89d4caf",
   "metadata": {},
   "outputs": [
    {
     "data": {
      "text/plain": [
       "Rating\n",
       "5.0    36000\n",
       "1.0    30000\n",
       "4.0    24000\n",
       "3.0    18000\n",
       "2.0    12000\n",
       "Name: count, dtype: int64"
      ]
     },
     "execution_count": 79,
     "metadata": {},
     "output_type": "execute_result"
    }
   ],
   "source": [
    "imbalanced_df['Rating'].value_counts()"
   ]
  },
  {
   "cell_type": "code",
   "execution_count": 80,
   "id": "93de67a6",
   "metadata": {},
   "outputs": [
    {
     "name": "stderr",
     "output_type": "stream",
     "text": [
      "C:\\Users\\LENOVO\\AppData\\Local\\Temp\\ipykernel_25720\\2685128881.py:2: FutureWarning: \n",
      "\n",
      "Passing `palette` without assigning `hue` is deprecated and will be removed in v0.14.0. Assign the `x` variable to `hue` and set `legend=False` for the same effect.\n",
      "\n",
      "  sns.countplot(x='Rating', data=imbalanced_df, palette='viridis')\n"
     ]
    },
    {
     "data": {
      "image/png": "[encoded data removed]",
      "text/plain": [
       "<Figure size 800x500 with 1 Axes>"
      ]
     },
     "metadata": {},
     "output_type": "display_data"
    }
   ],
   "source": [
    "plt.figure(figsize=(8, 5))\n",
    "sns.countplot(x='Rating', data=imbalanced_df, palette='viridis')\n",
    "plt.title(\"Number of Reviews per Rating\")\n",
    "plt.xlabel(\"Rating\")\n",
    "plt.ylabel(\"Count\")\n",
    "plt.show()"
   ]
  },
  {
   "cell_type": "code",
   "execution_count": 81,
   "id": "e3b4236c",
   "metadata": {},
   "outputs": [
    {
     "data": {
      "image/png": "[encoded data removed]",
      "text/plain": [
       "<Figure size 600x600 with 1 Axes>"
      ]
     },
     "metadata": {},
     "output_type": "display_data"
    }
   ],
   "source": [
    "rating_counts = imbalanced_df['Rating'].value_counts().sort_index()\n",
    "plt.figure(figsize=(6, 6))\n",
    "plt.pie(rating_counts, labels=rating_counts.index, autopct='%1.1f%%', startangle=140)\n",
    "plt.title(\"Rating Distribution\")\n",
    "plt.show()"
   ]
  },
  {
   "cell_type": "markdown",
   "id": "35d28c5c",
   "metadata": {},
   "source": [
    "## save both dataset"
   ]
  },
  {
   "cell_type": "code",
   "execution_count": 87,
   "id": "3be2721e",
   "metadata": {},
   "outputs": [],
   "source": [
    "balanced_df.to_csv(\"balanced_data_for_DL.csv\", encoding=\"utf-8-sig\")"
   ]
  },
  {
   "cell_type": "code",
   "execution_count": 88,
   "id": "80cc1c25",
   "metadata": {},
   "outputs": [],
   "source": [
    "imbalanced_df.to_csv(\"imbalanced_data_for_DL.csv\", encoding=\"utf-8-sig\")"
   ]
  },
  {
   "cell_type": "code",
   "execution_count": 89,
   "id": "312e2d4c",
   "metadata": {},
   "outputs": [],
   "source": [
    "df.to_csv(\"merged_data.csv\", encoding=\"utf-8-sig\")"
   ]
  },
  {
   "cell_type": "code",
   "execution_count": null,
   "id": "5da40320",
   "metadata": {},
   "outputs": [],
   "source": []
  }
 ],
 "metadata": {
  "kernelspec": {
   "display_name": "Python 3",
   "language": "python",
   "name": "python3"
  },
  "language_info": {
   "codemirror_mode": {
    "name": "ipython",
    "version": 3
   },
   "file_extension": ".py",
   "mimetype": "text/x-python",
   "name": "python",
   "nbconvert_exporter": "python",
   "pygments_lexer": "ipython3",
   "version": "3.13.5"
  }
 },
 "nbformat": 4,
 "nbformat_minor": 5
}
